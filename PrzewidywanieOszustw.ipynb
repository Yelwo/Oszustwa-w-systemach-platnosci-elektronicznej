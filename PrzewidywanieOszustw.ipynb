{
 "cells": [
  {
   "cell_type": "markdown",
   "metadata": {},
   "source": [
    "# Przewidywanie oszustw w systemach płatności elektronicznych"
   ]
  },
  {
   "cell_type": "markdown",
   "metadata": {},
   "source": [
    "Celem poniższego projektu jest analiza bazy danych 'Synthetic Financial Datasets For Fraud Detection' dostępnej na stronie www.kaggle.com oraz stworzenie modelu predykcyjnego, który pozwoli na wykrywanie oszustw w systemach płatonści elektronich. W tym celu skorzystamy z klasyfikacyjnego drzewa decyzyjnego."
   ]
  },
  {
   "cell_type": "markdown",
   "metadata": {},
   "source": [
    "### 1. Import"
   ]
  },
  {
   "cell_type": "code",
   "execution_count": 1,
   "metadata": {},
   "outputs": [],
   "source": [
    "%matplotlib inline\n",
    "import pandas as pd\n",
    "import numpy as np\n",
    "import matplotlib.pyplot as plt\n",
    "import seaborn as sns\n",
    "import scipy.stats as stats\n",
    "import graphviz\n",
    "from sklearn.model_selection import train_test_split, GridSearchCV\n",
    "from sklearn.metrics import accuracy_score, confusion_matrix\n",
    "from sklearn import model_selection as cval\n",
    "from sklearn.tree import DecisionTreeClassifier, export_graphviz\n",
    "from imblearn.under_sampling import RandomUnderSampler"
   ]
  },
  {
   "cell_type": "code",
   "execution_count": 2,
   "metadata": {},
   "outputs": [
    {
     "data": {
      "text/plain": [
       "(6362620, 11)"
      ]
     },
     "execution_count": 2,
     "metadata": {},
     "output_type": "execute_result"
    }
   ],
   "source": [
    "df = pd.read_csv('PS_20174392719_1491204439457_log.csv')\n",
    "df = df.rename(columns = {'oldbalanceOrg':'oldBalanceOrig', 'newbalanceOrig':'newBalanceOrig',\n",
    "                        'oldbalanceDest':'oldBalanceDest', 'newbalanceDest':'newBalanceDest'})\n",
    "df.shape"
   ]
  },
  {
   "cell_type": "code",
   "execution_count": 3,
   "metadata": {},
   "outputs": [
    {
     "data": {
      "text/plain": [
       "Index(['step', 'type', 'amount', 'nameOrig', 'oldBalanceOrig',\n",
       "       'newBalanceOrig', 'nameDest', 'oldBalanceDest', 'newBalanceDest',\n",
       "       'isFraud', 'isFlaggedFraud'],\n",
       "      dtype='object')"
      ]
     },
     "execution_count": 3,
     "metadata": {},
     "output_type": "execute_result"
    }
   ],
   "source": [
    "df.columns"
   ]
  },
  {
   "cell_type": "code",
   "execution_count": 4,
   "metadata": {},
   "outputs": [
    {
     "data": {
      "text/html": [
       "<div>\n",
       "<style scoped>\n",
       "    .dataframe tbody tr th:only-of-type {\n",
       "        vertical-align: middle;\n",
       "    }\n",
       "\n",
       "    .dataframe tbody tr th {\n",
       "        vertical-align: top;\n",
       "    }\n",
       "\n",
       "    .dataframe thead th {\n",
       "        text-align: right;\n",
       "    }\n",
       "</style>\n",
       "<table border=\"1\" class=\"dataframe\">\n",
       "  <thead>\n",
       "    <tr style=\"text-align: right;\">\n",
       "      <th></th>\n",
       "      <th>step</th>\n",
       "      <th>type</th>\n",
       "      <th>amount</th>\n",
       "      <th>nameOrig</th>\n",
       "      <th>oldBalanceOrig</th>\n",
       "      <th>newBalanceOrig</th>\n",
       "      <th>nameDest</th>\n",
       "      <th>oldBalanceDest</th>\n",
       "      <th>newBalanceDest</th>\n",
       "      <th>isFraud</th>\n",
       "      <th>isFlaggedFraud</th>\n",
       "    </tr>\n",
       "  </thead>\n",
       "  <tbody>\n",
       "    <tr>\n",
       "      <th>0</th>\n",
       "      <td>1</td>\n",
       "      <td>PAYMENT</td>\n",
       "      <td>9839.64</td>\n",
       "      <td>C1231006815</td>\n",
       "      <td>170136.0</td>\n",
       "      <td>160296.36</td>\n",
       "      <td>M1979787155</td>\n",
       "      <td>0.0</td>\n",
       "      <td>0.0</td>\n",
       "      <td>0</td>\n",
       "      <td>0</td>\n",
       "    </tr>\n",
       "    <tr>\n",
       "      <th>1</th>\n",
       "      <td>1</td>\n",
       "      <td>PAYMENT</td>\n",
       "      <td>1864.28</td>\n",
       "      <td>C1666544295</td>\n",
       "      <td>21249.0</td>\n",
       "      <td>19384.72</td>\n",
       "      <td>M2044282225</td>\n",
       "      <td>0.0</td>\n",
       "      <td>0.0</td>\n",
       "      <td>0</td>\n",
       "      <td>0</td>\n",
       "    </tr>\n",
       "    <tr>\n",
       "      <th>2</th>\n",
       "      <td>1</td>\n",
       "      <td>TRANSFER</td>\n",
       "      <td>181.00</td>\n",
       "      <td>C1305486145</td>\n",
       "      <td>181.0</td>\n",
       "      <td>0.00</td>\n",
       "      <td>C553264065</td>\n",
       "      <td>0.0</td>\n",
       "      <td>0.0</td>\n",
       "      <td>1</td>\n",
       "      <td>0</td>\n",
       "    </tr>\n",
       "    <tr>\n",
       "      <th>3</th>\n",
       "      <td>1</td>\n",
       "      <td>CASH_OUT</td>\n",
       "      <td>181.00</td>\n",
       "      <td>C840083671</td>\n",
       "      <td>181.0</td>\n",
       "      <td>0.00</td>\n",
       "      <td>C38997010</td>\n",
       "      <td>21182.0</td>\n",
       "      <td>0.0</td>\n",
       "      <td>1</td>\n",
       "      <td>0</td>\n",
       "    </tr>\n",
       "    <tr>\n",
       "      <th>4</th>\n",
       "      <td>1</td>\n",
       "      <td>PAYMENT</td>\n",
       "      <td>11668.14</td>\n",
       "      <td>C2048537720</td>\n",
       "      <td>41554.0</td>\n",
       "      <td>29885.86</td>\n",
       "      <td>M1230701703</td>\n",
       "      <td>0.0</td>\n",
       "      <td>0.0</td>\n",
       "      <td>0</td>\n",
       "      <td>0</td>\n",
       "    </tr>\n",
       "  </tbody>\n",
       "</table>\n",
       "</div>"
      ],
      "text/plain": [
       "   step      type    amount     nameOrig  oldBalanceOrig  newBalanceOrig  \\\n",
       "0     1   PAYMENT   9839.64  C1231006815        170136.0       160296.36   \n",
       "1     1   PAYMENT   1864.28  C1666544295         21249.0        19384.72   \n",
       "2     1  TRANSFER    181.00  C1305486145           181.0            0.00   \n",
       "3     1  CASH_OUT    181.00   C840083671           181.0            0.00   \n",
       "4     1   PAYMENT  11668.14  C2048537720         41554.0        29885.86   \n",
       "\n",
       "      nameDest  oldBalanceDest  newBalanceDest  isFraud  isFlaggedFraud  \n",
       "0  M1979787155             0.0             0.0        0               0  \n",
       "1  M2044282225             0.0             0.0        0               0  \n",
       "2   C553264065             0.0             0.0        1               0  \n",
       "3    C38997010         21182.0             0.0        1               0  \n",
       "4  M1230701703             0.0             0.0        0               0  "
      ]
     },
     "execution_count": 4,
     "metadata": {},
     "output_type": "execute_result"
    }
   ],
   "source": [
    "df.head()"
   ]
  },
  {
   "cell_type": "markdown",
   "metadata": {},
   "source": [
    "### 2. EDA"
   ]
  },
  {
   "cell_type": "markdown",
   "metadata": {},
   "source": [
    "Jak widać poniżej, w zbiorze nie brakuje żadnych wartości, natomiast niektóre z obserwacji mają wartość 0 w miejscach, w których można by oczekawiać czegoś innego. Przejdziemy do tego w następnych punktach analizy."
   ]
  },
  {
   "cell_type": "code",
   "execution_count": 5,
   "metadata": {},
   "outputs": [
    {
     "data": {
      "text/plain": [
       "False"
      ]
     },
     "execution_count": 5,
     "metadata": {},
     "output_type": "execute_result"
    }
   ],
   "source": [
    "df.isnull().values.any()"
   ]
  },
  {
   "cell_type": "markdown",
   "metadata": {},
   "source": [
    "Liczba fałszywych transakcji w naszym zbiorze danych jest nieporównywalnie mniejsza od liczby prawdziwych transakcji, co może znacząco wpłynąć na wynik naszego modelu, do rozwiązania tego problemu przejdziemy przy podziale zbioru."
   ]
  },
  {
   "cell_type": "code",
   "execution_count": 6,
   "metadata": {},
   "outputs": [
    {
     "data": {
      "text/html": [
       "<div>\n",
       "<style scoped>\n",
       "    .dataframe tbody tr th:only-of-type {\n",
       "        vertical-align: middle;\n",
       "    }\n",
       "\n",
       "    .dataframe tbody tr th {\n",
       "        vertical-align: top;\n",
       "    }\n",
       "\n",
       "    .dataframe thead th {\n",
       "        text-align: right;\n",
       "    }\n",
       "</style>\n",
       "<table border=\"1\" class=\"dataframe\">\n",
       "  <thead>\n",
       "    <tr style=\"text-align: right;\">\n",
       "      <th></th>\n",
       "      <th>Num_of_obs</th>\n",
       "      <th>Per_of_obs</th>\n",
       "    </tr>\n",
       "  </thead>\n",
       "  <tbody>\n",
       "    <tr>\n",
       "      <th>0</th>\n",
       "      <td>6354407</td>\n",
       "      <td>99.870918</td>\n",
       "    </tr>\n",
       "    <tr>\n",
       "      <th>1</th>\n",
       "      <td>8213</td>\n",
       "      <td>0.129082</td>\n",
       "    </tr>\n",
       "  </tbody>\n",
       "</table>\n",
       "</div>"
      ],
      "text/plain": [
       "   Num_of_obs  Per_of_obs\n",
       "0     6354407   99.870918\n",
       "1        8213    0.129082"
      ]
     },
     "execution_count": 6,
     "metadata": {},
     "output_type": "execute_result"
    }
   ],
   "source": [
    "def check_how_many_frauds(df):\n",
    "    frauds = pd.DataFrame(df['isFraud'].value_counts())\n",
    "    frauds.rename(columns = {'isFraud': 'Num_of_obs'}, inplace = True)\n",
    "    frauds['Per_of_obs'] = frauds['Num_of_obs']/df.shape[0]*100\n",
    "    return frauds\n",
    "\n",
    "check_how_many_frauds(df)"
   ]
  },
  {
   "cell_type": "markdown",
   "metadata": {},
   "source": [
    "### 2.1 Które typy transakcji zawierają fałszywe obserwacje?"
   ]
  },
  {
   "cell_type": "markdown",
   "metadata": {},
   "source": [
    "Szybkie sprawdzenie pokazuje, że jedynie transakcje typu wypłata i transfer zawierają sfałszowane dane."
   ]
  },
  {
   "cell_type": "code",
   "execution_count": 7,
   "metadata": {},
   "outputs": [
    {
     "data": {
      "text/html": [
       "<div>\n",
       "<style scoped>\n",
       "    .dataframe tbody tr th:only-of-type {\n",
       "        vertical-align: middle;\n",
       "    }\n",
       "\n",
       "    .dataframe tbody tr th {\n",
       "        vertical-align: top;\n",
       "    }\n",
       "\n",
       "    .dataframe thead th {\n",
       "        text-align: right;\n",
       "    }\n",
       "</style>\n",
       "<table border=\"1\" class=\"dataframe\">\n",
       "  <thead>\n",
       "    <tr style=\"text-align: right;\">\n",
       "      <th>isFraud</th>\n",
       "      <th>0</th>\n",
       "      <th>1</th>\n",
       "    </tr>\n",
       "    <tr>\n",
       "      <th>type</th>\n",
       "      <th></th>\n",
       "      <th></th>\n",
       "    </tr>\n",
       "  </thead>\n",
       "  <tbody>\n",
       "    <tr>\n",
       "      <th>CASH_IN</th>\n",
       "      <td>1399284</td>\n",
       "      <td>0</td>\n",
       "    </tr>\n",
       "    <tr>\n",
       "      <th>CASH_OUT</th>\n",
       "      <td>2233384</td>\n",
       "      <td>4116</td>\n",
       "    </tr>\n",
       "    <tr>\n",
       "      <th>DEBIT</th>\n",
       "      <td>41432</td>\n",
       "      <td>0</td>\n",
       "    </tr>\n",
       "    <tr>\n",
       "      <th>PAYMENT</th>\n",
       "      <td>2151495</td>\n",
       "      <td>0</td>\n",
       "    </tr>\n",
       "    <tr>\n",
       "      <th>TRANSFER</th>\n",
       "      <td>528812</td>\n",
       "      <td>4097</td>\n",
       "    </tr>\n",
       "  </tbody>\n",
       "</table>\n",
       "</div>"
      ],
      "text/plain": [
       "isFraud         0     1\n",
       "type                   \n",
       "CASH_IN   1399284     0\n",
       "CASH_OUT  2233384  4116\n",
       "DEBIT       41432     0\n",
       "PAYMENT   2151495     0\n",
       "TRANSFER   528812  4097"
      ]
     },
     "execution_count": 7,
     "metadata": {},
     "output_type": "execute_result"
    }
   ],
   "source": [
    "dfFraudByType = pd.crosstab(df['type'],df['isFraud'])\n",
    "dfFraudByType"
   ]
  },
  {
   "cell_type": "markdown",
   "metadata": {},
   "source": [
    "### 2.2 Co wpływa na oflagowanie transakcji jako podejrzanej?"
   ]
  },
  {
   "cell_type": "markdown",
   "metadata": {},
   "source": [
    "Jedną z kolumn w naszym zbiorze są transakcje oflagowane jako podejrzane. W opisie możemy przeczytać, że są to transfery o kwocie większej niż 200 000, łatwo jednak sprawdzić, że istnieje wiele transakcji które spełniają to kryterium a jednak nie zostały one oflagowane."
   ]
  },
  {
   "cell_type": "code",
   "execution_count": 8,
   "metadata": {},
   "outputs": [
    {
     "name": "stdout",
     "output_type": "stream",
     "text": [
      "Ile transakcji zostało oflagowanych: 16\n"
     ]
    }
   ],
   "source": [
    "dfFlagged = df[df.isFlaggedFraud == 1]\n",
    "dfNotFlagged = df[df.isFlaggedFraud == 0]\n",
    "print('Ile transakcji zostało oflagowanych: %s' % (len(dfFlagged)))"
   ]
  },
  {
   "cell_type": "code",
   "execution_count": 9,
   "metadata": {},
   "outputs": [
    {
     "name": "stdout",
     "output_type": "stream",
     "text": [
      "Ile transakcji ma kwotę większą niż 200 000 i nie zostało oflagowanych: 1673554\n"
     ]
    }
   ],
   "source": [
    "dfTransfer = df[df.type == 'TRANSFER']\n",
    "print('Ile transakcji ma kwotę większą niż 200 000 i nie zostało oflagowanych: %s' %\n",
    "     (len(dfNotFlagged[dfNotFlagged.amount > 200000])))"
   ]
  },
  {
   "cell_type": "markdown",
   "metadata": {},
   "source": [
    "Wiemy zatem, że flagowanie nie jest powiązane z kwotą przelewu, sprawdźmy zatem, czy stan konta ma wpływ na oznaczenie transakcji. Każda z 16 oflagowanych obserwacji ma wartości 'oldBalanceDest' i 'newBalanceDest' równe 0, czy zatem to może być powodem oznaczenia tych transakcji? Jak widzimy poniżej istnieje wiele innych transferów posiadających tę własność."
   ]
  },
  {
   "cell_type": "code",
   "execution_count": 10,
   "metadata": {},
   "outputs": [
    {
     "name": "stdout",
     "output_type": "stream",
     "text": [
      "Ile transakcji nie oflagowanych ma powyższą własność: 4158\n"
     ]
    }
   ],
   "source": [
    "print('Ile transakcji nie oflagowanych ma powyższą własność: %s' %\n",
    "     len(dfTransfer[(dfTransfer.oldBalanceDest == 0) & (dfTransfer.newBalanceDest == 0) &\n",
    "                    (dfTransfer.isFlaggedFraud == 0)]))"
   ]
  },
  {
   "cell_type": "markdown",
   "metadata": {},
   "source": [
    "Może więc stan konta źródła transferu ma wpływ na oflagowanie transakcji? Jak widać poniżej wartości dla takich kont pokrywają się w znacznej mierze dla obserwacji oznaczonych jak i nie oznaczonych."
   ]
  },
  {
   "cell_type": "code",
   "execution_count": 11,
   "metadata": {
    "scrolled": true
   },
   "outputs": [
    {
     "data": {
      "text/html": [
       "<div>\n",
       "<style scoped>\n",
       "    .dataframe tbody tr th:only-of-type {\n",
       "        vertical-align: middle;\n",
       "    }\n",
       "\n",
       "    .dataframe tbody tr th {\n",
       "        vertical-align: top;\n",
       "    }\n",
       "\n",
       "    .dataframe thead th {\n",
       "        text-align: right;\n",
       "    }\n",
       "</style>\n",
       "<table border=\"1\" class=\"dataframe\">\n",
       "  <thead>\n",
       "    <tr style=\"text-align: right;\">\n",
       "      <th></th>\n",
       "      <th>range_type</th>\n",
       "      <th>max</th>\n",
       "      <th>min</th>\n",
       "    </tr>\n",
       "    <tr>\n",
       "      <th>is_new</th>\n",
       "      <th>is_flagged</th>\n",
       "      <th></th>\n",
       "      <th></th>\n",
       "    </tr>\n",
       "  </thead>\n",
       "  <tbody>\n",
       "    <tr>\n",
       "      <th rowspan=\"2\" valign=\"top\">new</th>\n",
       "      <th>Flagged</th>\n",
       "      <td>19585040.0</td>\n",
       "      <td>353874.0</td>\n",
       "    </tr>\n",
       "    <tr>\n",
       "      <th>Not_Flagged</th>\n",
       "      <td>49585040.0</td>\n",
       "      <td>0.0</td>\n",
       "    </tr>\n",
       "    <tr>\n",
       "      <th rowspan=\"2\" valign=\"top\">old</th>\n",
       "      <th>Flagged</th>\n",
       "      <td>19585040.0</td>\n",
       "      <td>353874.0</td>\n",
       "    </tr>\n",
       "    <tr>\n",
       "      <th>Not_Flagged</th>\n",
       "      <td>59585040.0</td>\n",
       "      <td>0.0</td>\n",
       "    </tr>\n",
       "  </tbody>\n",
       "</table>\n",
       "</div>"
      ],
      "text/plain": [
       "range_type                 max       min\n",
       "is_new is_flagged                       \n",
       "new    Flagged      19585040.0  353874.0\n",
       "       Not_Flagged  49585040.0       0.0\n",
       "old    Flagged      19585040.0  353874.0\n",
       "       Not_Flagged  59585040.0       0.0"
      ]
     },
     "execution_count": 11,
     "metadata": {},
     "output_type": "execute_result"
    }
   ],
   "source": [
    "minmax = pd.DataFrame({'values':[round(dfFlagged.oldBalanceOrig.min()),\n",
    "           round(dfFlagged.oldBalanceOrig.max()),\n",
    "           round(dfTransfer[dfTransfer.isFlaggedFraud == 0].oldBalanceOrig.min()),\n",
    "           round(dfTransfer[dfTransfer.isFlaggedFraud == 0].oldBalanceOrig.max()),\n",
    "           round(dfFlagged.newBalanceOrig.min()),\n",
    "           round(dfFlagged.newBalanceOrig.max()),\n",
    "           round(dfTransfer[dfTransfer.isFlaggedFraud == 0].newBalanceOrig.min()),\n",
    "           round(dfTransfer[dfTransfer.isFlaggedFraud == 0].newBalanceOrig.max())],\n",
    " 'range_type':['min','max','min','max','min','max','min','max'],\n",
    " 'is_flagged':['Flagged','Flagged','Not_Flagged','Not_Flagged','Flagged','Flagged','Not_Flagged','Not_Flagged'],\n",
    " 'is_new':['old','old','old','old','new','new','new','new']\n",
    "})\n",
    "\n",
    "pd.pivot_table(minmax, values = 'values', index = ['is_new','is_flagged'], columns = 'range_type')\n"
   ]
  },
  {
   "cell_type": "markdown",
   "metadata": {},
   "source": [
    "Pozostaje nam sprawdzić czy transakcje falgowane są na podstawie źródła i celu. Sprawdźmy czy osoby w 16 oflagowanych obserwacjach powtarzają się w innych."
   ]
  },
  {
   "cell_type": "code",
   "execution_count": 12,
   "metadata": {},
   "outputs": [
    {
     "name": "stdout",
     "output_type": "stream",
     "text": [
      "\n",
      " Czy źródła oflagowanych obserwacji pojawiają się znowu w innych transakcjach: False\n",
      "\n",
      " Czy cele oflagowanych obserwacji pojawiają się znowu w innych transakcjach: True\n",
      "\n",
      " Ile razy cele oflagowanych obserwacji pojawiają się w innych transakcjach: 2\n"
     ]
    }
   ],
   "source": [
    "allNamesNotFlagged = pd.concat([dfNotFlagged.nameOrig,dfNotFlagged.nameDest])\n",
    "\n",
    "print('\\n Czy źródła oflagowanych obserwacji pojawiają się znowu w innych transakcjach: %s' %\n",
    "      (dfFlagged.nameOrig.isin(allNamesNotFlagged).any()))\n",
    "\n",
    "print('\\n Czy cele oflagowanych obserwacji pojawiają się znowu w innych transakcjach: %s' % \n",
    "     (dfFlagged.nameDest.isin(allNamesNotFlagged).any()))\n",
    "\n",
    "print('\\n Ile razy cele oflagowanych obserwacji pojawiają się w innych transakcjach: %s' % \n",
    "     (sum(dfFlagged.nameDest.isin(allNamesNotFlagged))))"
   ]
  },
  {
   "cell_type": "markdown",
   "metadata": {},
   "source": [
    "Widzimy więc, że tylko 2 z 16 celów transakcji pojawia się w więcej niż jedenej obserwacji, stąd wiemy że, ustawianie flag nie jest powiązane z wcześniejszym użyciem tego konta. Odrzucamy zatem kolumnę 'isFlaggedFraud' w dalszej analizie, ponieważ nie jest ona powiązana z żadną ze zmiennych."
   ]
  },
  {
   "cell_type": "markdown",
   "metadata": {},
   "source": [
    "### 2.3 Czy konta których używano mają coś wspólnego z fałszywymi transakcjami?"
   ]
  },
  {
   "cell_type": "markdown",
   "metadata": {},
   "source": [
    "W opisie datasetu możemy przeczytać, że fałszywe transkacje odbywają się w ramach schematu: transfer i następująca po nim wypłata. Sprawdźmy zatem czy konto będące celem fałszywego transferu jest również źródłem nieuczciwej wypłaty."
   ]
  },
  {
   "cell_type": "code",
   "execution_count": 13,
   "metadata": {},
   "outputs": [
    {
     "data": {
      "text/plain": [
       "False"
      ]
     },
     "execution_count": 13,
     "metadata": {},
     "output_type": "execute_result"
    }
   ],
   "source": [
    "dfFraudTransfer = df[(df.type == 'TRANSFER') & (df.isFraud == 1)]\n",
    "dfFraudCashOut = df[(df.type == 'CASH_OUT') & (df.isFraud == 1)]\n",
    "\n",
    "dfFraudTransfer.nameDest.isin(dfFraudCashOut.nameOrig).any() "
   ]
  },
  {
   "cell_type": "markdown",
   "metadata": {},
   "source": [
    "Widzimy zatem, że zmienne 'nameOrig' i 'nameDest' nie są powiązane ze zmienną celu, więc odrzucimy je w dalszej analizie."
   ]
  },
  {
   "cell_type": "markdown",
   "metadata": {},
   "source": [
    "### 3.1 Czyszczenie danych"
   ]
  },
  {
   "cell_type": "markdown",
   "metadata": {},
   "source": [
    "Zrzucamy nieistotne dla nas kolumny."
   ]
  },
  {
   "cell_type": "code",
   "execution_count": 14,
   "metadata": {},
   "outputs": [],
   "source": [
    "df_clean = df.drop(['nameOrig','nameDest','isFlaggedFraud'], axis = 1)"
   ]
  },
  {
   "cell_type": "markdown",
   "metadata": {},
   "source": [
    "Jak widzieliśmy wcześniej, fałszywe transakcje występują jedynie w przypadku transferów i wypłat, ograniczamy się więc jedynie do tych typów."
   ]
  },
  {
   "cell_type": "code",
   "execution_count": 15,
   "metadata": {},
   "outputs": [],
   "source": [
    "df_clean = df_clean[(df_clean.type == 'TRANSFER') | (df_clean.type == 'CASH_OUT')]"
   ]
  },
  {
   "cell_type": "markdown",
   "metadata": {},
   "source": [
    "Zmieniamy zmienną 'type' w zmienną binarną ponieważ algorytm CART z biblioteki sckit-learn nie obsługuje zmiennych kategorycznych."
   ]
  },
  {
   "cell_type": "code",
   "execution_count": 16,
   "metadata": {
    "collapsed": true
   },
   "outputs": [],
   "source": [
    "df_clean['type'].replace(['TRANSFER','CASH_OUT'], [1,0], inplace = True)"
   ]
  },
  {
   "cell_type": "markdown",
   "metadata": {},
   "source": [
    "### 3.2 Wstawianie brakujących danych"
   ]
  },
  {
   "cell_type": "markdown",
   "metadata": {},
   "source": [
    "Pomimo, że na pierwszy rzut oka nie ma żadnych brakujących danych, to w wielu obserwacjach nie zmienia się stan konta celu, natomiast kwota transferu jest dodatnia. Liczbę takich transakcji podajemy poniżej (takich dla których stan konta jest równy zero)"
   ]
  },
  {
   "cell_type": "code",
   "execution_count": 17,
   "metadata": {},
   "outputs": [
    {
     "data": {
      "text/plain": [
       "5776"
      ]
     },
     "execution_count": 17,
     "metadata": {},
     "output_type": "execute_result"
    }
   ],
   "source": [
    "len(df_clean[(df_clean.oldBalanceDest == 0) & (df_clean.newBalanceDest == 0) & (df_clean.amount > 0)])\n"
   ]
  },
  {
   "cell_type": "markdown",
   "metadata": {},
   "source": [
    "Sprawdźmy jaka cześć fałszywych transakcji ma podobną własność."
   ]
  },
  {
   "cell_type": "code",
   "execution_count": 18,
   "metadata": {},
   "outputs": [
    {
     "name": "stdout",
     "output_type": "stream",
     "text": [
      "Część fałszywych transakcji, w której nie zmienia się stan konta celu: 0.4955558261293072\n",
      "Część prawdziwych transakcji, w której nie zmienia się stan konta celu: 0.0006176245277308345\n"
     ]
    }
   ],
   "source": [
    "df_cleanFraud = df_clean[df_clean.isFraud == 1]\n",
    "df_cleanNonFraud = df_clean[df_clean.isFraud == 0]\n",
    "\n",
    "print('Część fałszywych transakcji, w której nie zmienia się stan konta celu: %s' % \n",
    "    (len(df_cleanFraud[(df_cleanFraud.oldBalanceDest == 0) & (df_cleanFraud.newBalanceDest == 0) & \n",
    "                       (df_cleanFraud.amount > 0)])/(1*len(df_cleanFraud))))\n",
    "\n",
    "print('Część prawdziwych transakcji, w której nie zmienia się stan konta celu: %s' % \n",
    "     (len(df_cleanNonFraud[(df_cleanNonFraud.oldBalanceDest == 0) & (df_cleanNonFraud.newBalanceDest == 0) & \n",
    "                        (df_cleanNonFraud.amount > 0)])/(1*len(df_cleanNonFraud))))"
   ]
  },
  {
   "cell_type": "markdown",
   "metadata": {},
   "source": [
    "Widzimy zatem, że o wiele cześciej zdarza się to w przypadku fałszywych transakcji, zatem nie będziemy wstawiać żadnych wartości w miejsce zerowych stanów konta, gdyż może być to jeden z czynników decydujących o prawdziwości transakcji."
   ]
  },
  {
   "cell_type": "markdown",
   "metadata": {},
   "source": [
    "### 4. Badanie zależności pomiędzy zmienną celu a pozostałymi zmiennymi"
   ]
  },
  {
   "cell_type": "markdown",
   "metadata": {},
   "source": [
    "Ze względu na występowanie zależności omawianej przez nas w poprzednim punkcie wprowadzimy dodatkowe zmienne 'errorBalanceOrig' i 'errorBalanceDest', które mierzą rozbieżność pomiędzy oczekiwanym stanem konta a rzeczywistym."
   ]
  },
  {
   "cell_type": "code",
   "execution_count": 19,
   "metadata": {
    "collapsed": true
   },
   "outputs": [],
   "source": [
    "df_clean['errorBalanceOrig'] = df_clean.newBalanceOrig + df_clean.amount - df.oldBalanceOrig\n",
    "df_clean['errorBalanceDest'] = df_clean.oldBalanceDest + df_clean.amount - df.newBalanceDest"
   ]
  },
  {
   "cell_type": "markdown",
   "metadata": {},
   "source": [
    "Do badania zależności użyjemy współczynnika rang Spearmana. Jest on niewrażliwy na wartości odstające, co jest dla nas istotne, ponieważ używany przez nas w dalszej części analizy algorytm drzewa decyzyjnego opiera się na proporcji obserwacji w zbiorze, a nie na zakresie występujących wartości."
   ]
  },
  {
   "cell_type": "code",
   "execution_count": 20,
   "metadata": {},
   "outputs": [
    {
     "data": {
      "image/png": "[encoded data removed]",
      "text/plain": [
       "<matplotlib.figure.Figure at 0x10d86ec50>"
      ]
     },
     "metadata": {},
     "output_type": "display_data"
    }
   ],
   "source": [
    "df_cleanFraud = df_clean[df_clean.isFraud == 1].drop('isFraud', axis = 1)\n",
    "df_cleanNonFraud = df_clean[df_clean.isFraud == 0].drop('isFraud', axis = 1)\n",
    "\n",
    "df_cleanSpearmanFraud = pd.DataFrame(stats.spearmanr(df_cleanFraud)[0], columns = df_cleanFraud.columns,\n",
    "                                     index = df_cleanFraud.columns)\n",
    "df_cleanSpearmanNonFraud = pd.DataFrame(stats.spearmanr(df_cleanNonFraud)[0], columns = df_cleanNonFraud.columns,\n",
    "                                     index = df_cleanNonFraud.columns)\n",
    "\n",
    "cmap = sns.diverging_palette(220, 8, as_cmap=True)\n",
    "grid_kws = {\"width_ratios\": (.9, .9, .05), \"wspace\": 0.2}\n",
    "\n",
    "fig, (ax1, ax2, cbar_ax) = plt.subplots(1, 3, gridspec_kw=grid_kws, figsize = (14, 9))\n",
    "ax1 = sns.heatmap(df_cleanSpearmanFraud, ax = ax1, linewidths = 0.5, cbar = False, cmap = cmap)\n",
    "ax1.set_xticklabels(ax1.get_xticklabels(), size = 16)\n",
    "ax1.set_yticklabels(ax1.get_yticklabels(), size = 16) \n",
    "ax1.set_title('Fałszywe transakcje', size = 20)\n",
    "\n",
    "ax2 = sns.heatmap(df_cleanSpearmanNonFraud, ax = ax2, cbar_ax = cbar_ax,\n",
    "                  linewidths = 0.5, yticklabels = False, cmap = cmap)\n",
    "ax2.set_xticklabels(ax2.get_xticklabels(), size = 16)\n",
    "ax2.set_title('Prawdziwe transakcje', size = 20)\n",
    "\n",
    "cbar_ax.set_yticklabels(cbar_ax.get_yticklabels(), size = 14);"
   ]
  },
  {
   "cell_type": "markdown",
   "metadata": {},
   "source": [
    "Z powyższych wykresów można zaobserowawać różnice pomiędzy współczynnikami Spearman fałszywych i prawdziwych transakcji, odpowiednio dla różnych zmiennych."
   ]
  },
  {
   "cell_type": "markdown",
   "metadata": {},
   "source": [
    "### 5. Podział zbioru"
   ]
  },
  {
   "cell_type": "markdown",
   "metadata": {},
   "source": [
    "Jak widać poniżej, pomimo ograniczenia się do transakcji typu transfer i wypłata, nasz zbiór danych nadal jest mocno niezrównoważony i prawdziwe transakcje stanowią prawie całość tego zbioru. Zastosujemy zatem metodę usuwania części obserwacji tak aby zrównoważyć nasz zbiór (random under-sampling)."
   ]
  },
  {
   "cell_type": "code",
   "execution_count": 21,
   "metadata": {},
   "outputs": [
    {
     "data": {
      "text/html": [
       "<div>\n",
       "<style scoped>\n",
       "    .dataframe tbody tr th:only-of-type {\n",
       "        vertical-align: middle;\n",
       "    }\n",
       "\n",
       "    .dataframe tbody tr th {\n",
       "        vertical-align: top;\n",
       "    }\n",
       "\n",
       "    .dataframe thead th {\n",
       "        text-align: right;\n",
       "    }\n",
       "</style>\n",
       "<table border=\"1\" class=\"dataframe\">\n",
       "  <thead>\n",
       "    <tr style=\"text-align: right;\">\n",
       "      <th></th>\n",
       "      <th>Num_of_obs</th>\n",
       "      <th>Per_of_obs</th>\n",
       "    </tr>\n",
       "  </thead>\n",
       "  <tbody>\n",
       "    <tr>\n",
       "      <th>0</th>\n",
       "      <td>2762196</td>\n",
       "      <td>99.703546</td>\n",
       "    </tr>\n",
       "    <tr>\n",
       "      <th>1</th>\n",
       "      <td>8213</td>\n",
       "      <td>0.296454</td>\n",
       "    </tr>\n",
       "  </tbody>\n",
       "</table>\n",
       "</div>"
      ],
      "text/plain": [
       "   Num_of_obs  Per_of_obs\n",
       "0     2762196   99.703546\n",
       "1        8213    0.296454"
      ]
     },
     "execution_count": 21,
     "metadata": {},
     "output_type": "execute_result"
    }
   ],
   "source": [
    "check_how_many_frauds(df_clean)"
   ]
  },
  {
   "cell_type": "markdown",
   "metadata": {},
   "source": [
    "Zmniejszymy liczbę prawdziwych transakcji do 20000, tak aby nadal była większa od liczby fałszywych, ale jednocześnie nie stanowiła 99% całego zbioru."
   ]
  },
  {
   "cell_type": "code",
   "execution_count": 22,
   "metadata": {},
   "outputs": [],
   "source": [
    "X = df_clean.loc[:,~df_clean.columns.isin(['isFraud'])]\n",
    "y = df_clean['isFraud']\n",
    "rus = RandomUnderSampler(ratio = {1: 8213, 0:20000})\n",
    "X_res, y_res = rus.fit_sample(X,y)"
   ]
  },
  {
   "cell_type": "code",
   "execution_count": 23,
   "metadata": {},
   "outputs": [],
   "source": [
    "df_clean_res = pd.DataFrame(X_res, columns = X.columns)\n",
    "df_clean_res['isFraud'] = y_res"
   ]
  },
  {
   "cell_type": "markdown",
   "metadata": {},
   "source": [
    "Przejdźmy teraz do standardowego podziału zbioru na część testową, treningową i walidacyjną. Jako część testową weźmiemy 20% całego zbioru, natomiast pozostałe 80% podzielimy w proporcji 3:1 na część treningową i walidacyjną."
   ]
  },
  {
   "cell_type": "code",
   "execution_count": 24,
   "metadata": {},
   "outputs": [],
   "source": [
    "train_valid = df_clean_res.sample(frac = 0.8, random_state = 123456)\n",
    "\n",
    "test = df_clean_res[~df_clean_res.index.isin(train_valid.index)]\n",
    "\n",
    "X_train, X_val, y_train, y_val = train_test_split(train_valid.loc[:,train_valid.columns != 'isFraud'],\n",
    "                                                 train_valid['isFraud'], test_size = 0.25, random_state = 0)\n",
    "\n",
    "X_test = test.loc[:,test.columns != 'isFraud']\n",
    "y_test = test['isFraud']"
   ]
  },
  {
   "cell_type": "markdown",
   "metadata": {},
   "source": [
    "### 6.1 Użycie modelu drzewa decyzyjnego"
   ]
  },
  {
   "cell_type": "markdown",
   "metadata": {},
   "source": [
    "Użyjemy teraz modelu drzewa decyzyjnego na części trenującej a następnie sprawdzimy jego poprawność przy użyciu zbioru walidacyjnego."
   ]
  },
  {
   "cell_type": "code",
   "execution_count": 25,
   "metadata": {},
   "outputs": [
    {
     "data": {
      "text/plain": [
       "0.9973418394471026"
      ]
     },
     "execution_count": 25,
     "metadata": {},
     "output_type": "execute_result"
    }
   ],
   "source": [
    "model = DecisionTreeClassifier()\n",
    "model.fit(X_train, y_train)\n",
    "pred = model.predict(X_val)\n",
    "accuracy_score(pred, y_val)"
   ]
  },
  {
   "cell_type": "markdown",
   "metadata": {},
   "source": [
    "Jak widać nasz model jest dość dokładny, sprawdźmy jeszcze wynik na tablicy pomyłek."
   ]
  },
  {
   "cell_type": "code",
   "execution_count": null,
   "metadata": {
    "scrolled": true
   },
   "outputs": [
    {
     "data": {
      "text/html": [
       "<div>\n",
       "<style scoped>\n",
       "    .dataframe tbody tr th:only-of-type {\n",
       "        vertical-align: middle;\n",
       "    }\n",
       "\n",
       "    .dataframe tbody tr th {\n",
       "        vertical-align: top;\n",
       "    }\n",
       "\n",
       "    .dataframe thead th {\n",
       "        text-align: right;\n",
       "    }\n",
       "</style>\n",
       "<table border=\"1\" class=\"dataframe\">\n",
       "  <thead>\n",
       "    <tr style=\"text-align: right;\">\n",
       "      <th></th>\n",
       "      <th>Pred_Non_Fraud</th>\n",
       "      <th>Pred_Fraud</th>\n",
       "    </tr>\n",
       "  </thead>\n",
       "  <tbody>\n",
       "    <tr>\n",
       "      <th>Act_Non_Fraud</th>\n",
       "      <td>4035</td>\n",
       "      <td>6</td>\n",
       "    </tr>\n",
       "    <tr>\n",
       "      <th>Act_Fraud</th>\n",
       "      <td>9</td>\n",
       "      <td>1593</td>\n",
       "    </tr>\n",
       "  </tbody>\n",
       "</table>\n",
       "</div>"
      ],
      "text/plain": [
       "               Pred_Non_Fraud  Pred_Fraud\n",
       "Act_Non_Fraud            4035           6\n",
       "Act_Fraud                   9        1593"
      ]
     },
     "execution_count": 26,
     "metadata": {},
     "output_type": "execute_result"
    }
   ],
   "source": [
    "pd.DataFrame(confusion_matrix(y_val,pred), columns = ['Pred_Non_Fraud','Pred_Fraud'],\n",
    "             index = ['Act_Non_Fraud','Act_Fraud'])"
   ]
  },
  {
   "cell_type": "markdown",
   "metadata": {},
   "source": [
    "### 6.2 Walidacja krzyżowa"
   ]
  },
  {
   "cell_type": "markdown",
   "metadata": {},
   "source": [
    "Wykonamy teraz 30 razy walidację krzyżową na 10, a następnie uśrednimy wynik, aby upewnić się że nasze oszacowanie trafności modelu nie jest dziełem przypadku."
   ]
  },
  {
   "cell_type": "code",
   "execution_count": null,
   "metadata": {},
   "outputs": [],
   "source": [
    "m = 0\n",
    "for x in range(0,30):\n",
    "    m += cval.cross_val_score(model, X_train, y_train, cv = 10).mean()\n",
    "m/30"
   ]
  },
  {
   "cell_type": "markdown",
   "metadata": {},
   "source": [
    "### 6.3 Optymalizajca głębokości drzewa"
   ]
  },
  {
   "cell_type": "markdown",
   "metadata": {},
   "source": [
    "Użyjemy GridSearchCV do znalezienia optymalnej głębokości drzewa. Nie chcemy aby drzewo było przeuczone, ponieważ mogłoby wtedy źle działać na danych testowych (overfitting)."
   ]
  },
  {
   "cell_type": "code",
   "execution_count": null,
   "metadata": {},
   "outputs": [],
   "source": [
    "parameters = {'max_depth': range(2,6)}"
   ]
  },
  {
   "cell_type": "markdown",
   "metadata": {},
   "source": [
    "Skorzystamy teraz z GridSearchCV do znalezienia odpowiedniej głębokości a następnie dokonamy walidacji krzyżowej na 10 podzbiorach dla uśrednienia wyników."
   ]
  },
  {
   "cell_type": "code",
   "execution_count": null,
   "metadata": {},
   "outputs": [],
   "source": [
    "classif = GridSearchCV(DecisionTreeClassifier(),parameters, cv = 10)\n",
    "classif.fit(X_train,y_train)\n",
    "classif.best_params_"
   ]
  },
  {
   "cell_type": "markdown",
   "metadata": {},
   "source": [
    "Sprawdźmy teraz wynik dla modelu przy optymalnej głębokości."
   ]
  },
  {
   "cell_type": "code",
   "execution_count": null,
   "metadata": {},
   "outputs": [],
   "source": [
    "classif.best_score_"
   ]
  },
  {
   "cell_type": "markdown",
   "metadata": {},
   "source": [
    "### 7.1 Ostateczny model i test"
   ]
  },
  {
   "cell_type": "code",
   "execution_count": null,
   "metadata": {},
   "outputs": [],
   "source": [
    "model = DecisionTreeClassifier(**classif.best_params_)\n",
    "model.fit(X_train,y_train)\n",
    "pred = model.predict(X_test)"
   ]
  },
  {
   "cell_type": "code",
   "execution_count": null,
   "metadata": {},
   "outputs": [],
   "source": [
    "print('Końcowy wynik: %s' % (accuracy_score(pred,y_test)))"
   ]
  },
  {
   "cell_type": "markdown",
   "metadata": {},
   "source": [
    "### 7.2 Wizualizacja drzewa"
   ]
  },
  {
   "cell_type": "code",
   "execution_count": null,
   "metadata": {},
   "outputs": [],
   "source": [
    "dot_data = export_graphviz(model, out_file=None, \n",
    "                         feature_names=X_train.columns,  \n",
    "                         class_names=['Not a Fraud','Fraud'],  \n",
    "                         filled=True, rounded=True,  \n",
    "                         special_characters=True)  \n",
    "graph = graphviz.Source(dot_data)\n",
    "graph"
   ]
  }
 ],
 "metadata": {
  "kernelspec": {
   "display_name": "Python 3",
   "language": "python",
   "name": "python3"
  },
  "language_info": {
   "codemirror_mode": {
    "name": "ipython",
    "version": 3
   },
   "file_extension": ".py",
   "mimetype": "text/x-python",
   "name": "python",
   "nbconvert_exporter": "python",
   "pygments_lexer": "ipython3",
   "version": "3.6.2"
  }
 },
 "nbformat": 4,
 "nbformat_minor": 2
}
